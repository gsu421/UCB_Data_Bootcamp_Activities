{
 "cells": [
  {
   "cell_type": "code",
   "execution_count": 10,
   "metadata": {},
   "outputs": [
    {
     "name": "stdout",
     "output_type": "stream",
     "text": [
      "what video are you looking for?Stranger Things\n"
     ]
    }
   ],
   "source": [
    "import os\n",
    "import csv\n",
    "\n",
    "video_name = input(\"what video are you looking for?\")\n"
   ]
  },
  {
   "cell_type": "code",
   "execution_count": 15,
   "metadata": {},
   "outputs": [
    {
     "ename": "SyntaxError",
     "evalue": "invalid syntax (<ipython-input-15-7ab8e219e78d>, line 14)",
     "output_type": "error",
     "traceback": [
      "\u001b[0;36m  File \u001b[0;32m\"<ipython-input-15-7ab8e219e78d>\"\u001b[0;36m, line \u001b[0;32m14\u001b[0m\n\u001b[0;31m    if found = False:\u001b[0m\n\u001b[0m             ^\u001b[0m\n\u001b[0;31mSyntaxError\u001b[0m\u001b[0;31m:\u001b[0m invalid syntax\n"
     ]
    }
   ],
   "source": [
    "# Set Path for the file\n",
    "csvpath = os.path.join('netflix_ratings.csv')\n",
    "\n",
    "# Open the CSV\n",
    "with open(csvpath, newline='') as csvfile:\n",
    "    found = False \n",
    "# with open('netflix_ratings.csv') as csvfile:\n",
    "    csvreader = csv.reader(csvfile, delimiter=\",\")     \n",
    "    for row in csvreader:\n",
    "        #print (row)\n",
    "        if row[0]==video_name:\n",
    "            print(row[0] + \"is rated\" + row[1] + \"with a rating of\" + row[6])\n",
    "            found = True\n",
    "    if found = False:\n",
    "            print(\"sorry bro\")"
   ]
  },
  {
   "cell_type": "code",
   "execution_count": null,
   "metadata": {
    "collapsed": true
   },
   "outputs": [],
   "source": []
  }
 ],
 "metadata": {
  "kernelspec": {
   "display_name": "Python 3",
   "language": "python",
   "name": "python3"
  },
  "language_info": {
   "codemirror_mode": {
    "name": "ipython",
    "version": 3
   },
   "file_extension": ".py",
   "mimetype": "text/x-python",
   "name": "python",
   "nbconvert_exporter": "python",
   "pygments_lexer": "ipython3",
   "version": "3.6.3"
  }
 },
 "nbformat": 4,
 "nbformat_minor": 2
}
