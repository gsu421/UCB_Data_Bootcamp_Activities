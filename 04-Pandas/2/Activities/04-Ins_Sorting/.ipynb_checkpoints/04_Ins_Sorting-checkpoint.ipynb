{
 "cells": [
  {
   "cell_type": "code",
   "execution_count": null,
   "metadata": {
    "collapsed": true
   },
   "outputs": [],
   "source": [
    "# Import Dependencies\n",
    "import pandas as pd\n",
    "import os"
   ]
  },
  {
   "cell_type": "code",
   "execution_count": null,
   "metadata": {},
   "outputs": [],
   "source": [
    "csv_path = os.path.join('Resources', 'Happiness_2017.csv')\n",
    "happiness_df = pd.read_csv(csv_path)\n",
    "happiness_df.head()"
   ]
  },
  {
   "cell_type": "code",
   "execution_count": null,
   "metadata": {},
   "outputs": [],
   "source": [
    "# Sorting the DataFrame based on \"Freedom\" column\n",
    "# Will sort from lowest to highest if no other parameter is passed\n",
    "freedom_df = happiness_df.sort_values(by=\"Freedom\")\n",
    "freedom_df.head()"
   ]
  },
  {
   "cell_type": "code",
   "execution_count": null,
   "metadata": {},
   "outputs": [],
   "source": [
    "# To sort from highest to lowest, ascending=False must be passed in\n",
    "freedom_df = happiness_df.sort_values(by=\"Freedom\", ascending=False)\n",
    "freedom_df.head()"
   ]
  },
  {
   "cell_type": "code",
   "execution_count": null,
   "metadata": {},
   "outputs": [],
   "source": [
    "# It is possible to sort based upon multiple columns\n",
    "family_and_generosity = happiness_df.sort_values(by=[\"Family\",\"Generosity\"],\n",
    "                                                 ascending=False)\n",
    "family_and_generosity.head()"
   ]
  },
  {
   "cell_type": "code",
   "execution_count": null,
   "metadata": {},
   "outputs": [],
   "source": [
    "# Reset the index\n",
    "family_and_generosity = family_and_generosity.reset_index(drop=True)\n",
    "family_and_generosity.head()"
   ]
  },
  {
   "cell_type": "code",
   "execution_count": null,
   "metadata": {
    "collapsed": true
   },
   "outputs": [],
   "source": []
  }
 ],
 "metadata": {
  "kernelspec": {
   "display_name": "Python 3",
   "language": "python",
   "name": "python3"
  },
  "language_info": {
   "codemirror_mode": {
    "name": "ipython",
    "version": 3
   },
   "file_extension": ".py",
   "mimetype": "text/x-python",
   "name": "python",
   "nbconvert_exporter": "python",
   "pygments_lexer": "ipython3",
   "version": "3.6.2"
  }
 },
 "nbformat": 4,
 "nbformat_minor": 2
}
