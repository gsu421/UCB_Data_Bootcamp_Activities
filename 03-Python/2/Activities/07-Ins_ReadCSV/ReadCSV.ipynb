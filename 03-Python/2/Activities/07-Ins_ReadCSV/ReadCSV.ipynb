{
 "cells": [
  {
   "cell_type": "code",
   "execution_count": 1,
   "metadata": {
    "collapsed": true
   },
   "outputs": [],
   "source": [
    "import os\n",
    "csvpath = os.path.join('Resources', 'accounting.csv')"
   ]
  },
  {
   "cell_type": "code",
   "execution_count": 6,
   "metadata": {},
   "outputs": [
    {
     "name": "stdout",
     "output_type": "stream",
     "text": [
      "<_csv.reader object at 0x10f4cc0b8>\n",
      "['First Name', 'Last Name', 'SSN']\n",
      "['Tina', 'Fleming', '619-16-7988']\n",
      "['Erica', 'Shah', '164-51-7615']\n",
      "['Paula', 'Ortiz', '051-83-3290']\n",
      "['James', 'Hendricks', '776-83-2884']\n",
      "['Lauren', 'King', '197-94-2398']\n",
      "['David', 'Cowan', '252-92-1832']\n",
      "['Andrew', 'Burton', '296-23-6842']\n",
      "['Julian', 'Baker', '337-40-7543']\n",
      "['Scott', 'Castro', '399-46-5595']\n",
      "['Billy', 'Rodriguez', '014-18-2503']\n",
      "['Darrell', 'Leblanc', '005-82-7918']\n",
      "['David', 'Hammond', '561-17-6312']\n"
     ]
    }
   ],
   "source": [
    "# Method 2: Improved Reading using CSV module\n",
    "import csv\n",
    "with open(csvpath, newline='') as csvfile:\n",
    "    # CSV reader specifies delimiter and variable that holds contents\n",
    "    csvreader = csv.reader(csvfile, delimiter=',')\n",
    "\n",
    "    print(csvreader)\n",
    "    #  Each row is read as a row\n",
    "    for row in csvreader:\n",
    "        print(row)"
   ]
  }
 ],
 "metadata": {
  "kernelspec": {
   "display_name": "Python 3",
   "language": "python",
   "name": "python3"
  },
  "language_info": {
   "codemirror_mode": {
    "name": "ipython",
    "version": 3
   },
   "file_extension": ".py",
   "mimetype": "text/x-python",
   "name": "python",
   "nbconvert_exporter": "python",
   "pygments_lexer": "ipython3",
   "version": "3.6.3"
  }
 },
 "nbformat": 4,
 "nbformat_minor": 2
}
